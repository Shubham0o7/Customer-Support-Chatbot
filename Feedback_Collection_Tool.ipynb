{
  "nbformat": 4,
  "nbformat_minor": 0,
  "metadata": {
    "colab": {
      "provenance": []
    },
    "kernelspec": {
      "name": "python3",
      "display_name": "Python 3"
    },
    "language_info": {
      "name": "python"
    }
  },
  "cells": [
    {
      "cell_type": "code",
      "execution_count": 1,
      "metadata": {
        "colab": {
          "base_uri": "https://localhost:8080/"
        },
        "id": "FR38RBJM21yk",
        "outputId": "0446a266-4274-4bb5-acbc-8de881b3ae1d"
      },
      "outputs": [
        {
          "output_type": "stream",
          "name": "stdout",
          "text": [
            "Welcome to the Client Feedback Collection Tool!\n",
            "Enter your name (or 'exit' to quit): shubham\n",
            "Enter your feedback: really helpful\n",
            "Rate your experience (1-5): 4\n",
            "Thank you for your feedback!\n",
            "Enter your name (or 'exit' to quit): exit\n",
            "Feedback collected successfully! Check client_feedback.txt for all responses.\n"
          ]
        }
      ],
      "source": [
        "def collect_feedback():\n",
        "    print(\"Welcome to the Client Feedback Collection Tool!\")\n",
        "\n",
        "    feedbacks = []\n",
        "\n",
        "    while True:\n",
        "        client_name = input(\"Enter your name (or 'exit' to quit): \")\n",
        "\n",
        "        if client_name.lower() == 'exit':\n",
        "            break\n",
        "\n",
        "        feedback = input(\"Enter your feedback: \")\n",
        "        rating = input(\"Rate your experience (1-5): \")\n",
        "\n",
        "        feedbacks.append({\"name\": client_name, \"feedback\": feedback, \"rating\": rating})\n",
        "\n",
        "        print(\"Thank you for your feedback!\")\n",
        "\n",
        "    # Save feedback to a file\n",
        "    with open(\"client_feedback.txt\", \"w\") as file:\n",
        "        for entry in feedbacks:\n",
        "            file.write(f\"Name: {entry['name']}, Feedback: {entry['feedback']}, Rating: {entry['rating']}\\n\")\n",
        "\n",
        "    print(\"Feedback collected successfully! Check client_feedback.txt for all responses.\")\n",
        "\n",
        "if __name__ == \"__main__\":\n",
        "    collect_feedback()\n"
      ]
    }
  ]
}