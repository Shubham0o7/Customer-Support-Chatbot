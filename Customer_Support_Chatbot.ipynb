{
  "nbformat": 4,
  "nbformat_minor": 0,
  "metadata": {
    "colab": {
      "provenance": []
    },
    "kernelspec": {
      "name": "python3",
      "display_name": "Python 3"
    },
    "language_info": {
      "name": "python"
    }
  },
  "cells": [
    {
      "cell_type": "code",
      "execution_count": 1,
      "metadata": {
        "id": "_u1expJizshL"
      },
      "outputs": [],
      "source": [
        "import nltk\n",
        "from nltk.chat.util import Chat, reflections\n",
        "import datetime"
      ]
    },
    {
      "cell_type": "code",
      "source": [
        "# Pairs of questions and responses\n",
        "pairs = [\n",
        "    [r\"(.*)(Wi[- ]?Fi|internet|connect)(.*)\",\n",
        "     [\"It seems like you're having Wi-Fi connectivity issues. Try the following steps:\\n\"\n",
        "      \"1. Restart your router.\\n\"\n",
        "      \"2. Ensure your device is within range of the Wi-Fi signal.\\n\"\n",
        "      \"3. Check that you're using the correct password.\\n\"\n",
        "      \"4. Restart your device to refresh the network connection.\\n\"\n",
        "      \"5. If the issue persists, contact your service provider.\"]],\n",
        "\n",
        "    [r\"(.*)(install|installation)(.*)(software|program)(.*)\",\n",
        "     [\"To install a software, follow these steps:\\n\"\n",
        "      \"1. Download the installation file from the official website.\\n\"\n",
        "      \"2. Run the installer and follow the on-screen instructions.\\n\"\n",
        "      \"3. Make sure your system meets the software's minimum requirements.\\n\"\n",
        "      \"4. If any errors occur, consult the software's documentation.\"]],\n",
        "\n",
        "    [r\"(.*)(computer|laptop|pc|desktop)(.*)(slow|issue|problem)(.*)\",\n",
        "     [\"Common computer issues can be resolved by:\\n\"\n",
        "      \"1. Restarting your computer to clear temporary issues.\\n\"\n",
        "      \"2. Checking all cables and connections.\\n\"\n",
        "      \"3. Running a virus scan to ensure there are no malicious programs.\\n\"\n",
        "      \"4. Updating your operating system and software to the latest versions.\\n\"\n",
        "      \"5. Checking your system's available memory and disk space.\"]],\n",
        "\n",
        "    [r\"(.*)password(.*)reset(.*)\",\n",
        "     [\"To reset your password:\\n\"\n",
        "      \"1. Click on the 'Forgot Password' option on the login page.\\n\"\n",
        "      \"2. Enter your email address and follow the steps to receive a reset link.\\n\"\n",
        "      \"3. Create a new strong password, combining letters, numbers, and special characters.\"]],\n",
        "\n",
        "    [r\"(.*)(trouble|issue|problem|troubleshoot)(.*)\",\n",
        "     [\"Can you please describe the problem in more detail so I can help you better?\"]],\n",
        "\n",
        "    [r\"(.*)(bye|exit|quit)(.*)\", [\"Goodbye! Feel free to return if you need further assistance.\"]],\n",
        "\n",
        "    [r\"(.*)(help|options|instructions)(.*)\",\n",
        "     [\"You can ask me questions about:\\n\"\n",
        "      \"1. Wi-Fi or internet connectivity issues.\\n\"\n",
        "      \"2. Software installation help.\\n\"\n",
        "      \"3. Troubleshooting slow or problematic computers.\\n\"\n",
        "      \"4. Resetting passwords.\\n\"\n",
        "      \"Or you can type 'exit' to end the chat.\"]],\n",
        "]"
      ],
      "metadata": {
        "id": "dmTp4V80z2WX"
      },
      "execution_count": 2,
      "outputs": []
    },
    {
      "cell_type": "code",
      "source": [
        "# Chatbot function\n",
        "def chatbot():\n",
        "    print(\"Hello! I am your Technical Support Chatbot.\")\n",
        "    print(\"You can ask me about common technical issues (Wi-Fi, software installation, troubleshooting, etc.).\")\n",
        "    print(\"Type 'help' to see options or 'exit' to quit.\")\n",
        "\n",
        "    chat = Chat(pairs, reflections)\n",
        "\n",
        "    # Log file for tracking the conversation\n",
        "    with open('chat_log.txt', 'a') as log_file:\n",
        "        log_file.write(f\"\\nConversation started at {datetime.datetime.now()}\\n\")\n",
        "\n",
        "        # Chat session\n",
        "        while True:\n",
        "            user_input = input(\"You: \").lower()\n",
        "\n",
        "            if user_input in [\"exit\", \"quit\", \"bye\"]:\n",
        "                print(\"Chatbot: Goodbye! Have a great day!\")\n",
        "                log_file.write(f\"User: {user_input}\\nChatbot: Goodbye!\\n\")\n",
        "                break\n",
        "\n",
        "            elif user_input == \"help\":\n",
        "                print(\"Chatbot: You can ask me about:\")\n",
        "                print(\"1. Wi-Fi or internet connectivity issues.\")\n",
        "                print(\"2. Software installation help.\")\n",
        "                print(\"3. Troubleshooting computer issues.\")\n",
        "                print(\"Type 'exit' to quit.\")\n",
        "            else:\n",
        "                log_file.write(f\"User: {user_input}\\n\")\n",
        "                response = chat.respond(user_input)\n",
        "                print(f\"Chatbot: {response}\")\n",
        "                log_file.write(f\"Chatbot: {response}\\n\")\n",
        "\n",
        "        log_file.write(f\"Conversation ended at {datetime.datetime.now()}\\n\")"
      ],
      "metadata": {
        "id": "Rp1YFzzqz9jn"
      },
      "execution_count": 5,
      "outputs": []
    },
    {
      "cell_type": "code",
      "source": [
        "# Run the chatbot\n",
        "chatbot()"
      ],
      "metadata": {
        "colab": {
          "base_uri": "https://localhost:8080/"
        },
        "id": "SrH8c_biz9vp",
        "outputId": "2a1f8362-fbcc-471a-f12c-7206a4f23e9d"
      },
      "execution_count": 8,
      "outputs": [
        {
          "output_type": "stream",
          "name": "stdout",
          "text": [
            "Hello! I am your Technical Support Chatbot.\n",
            "You can ask me about common technical issues (Wi-Fi, software installation, troubleshooting, etc.).\n",
            "Type 'help' to see options or 'exit' to quit.\n",
            "You: exit\n",
            "Chatbot: Goodbye! Have a great day!\n"
          ]
        }
      ]
    }
  ]
}